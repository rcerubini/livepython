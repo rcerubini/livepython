{
 "cells": [
  {
   "cell_type": "markdown",
   "metadata": {},
   "source": [
    "# Title\n",
    "\n",
    "This is my **bold** text and that is *italic*.\n",
    "\n",
    "This is a list:\n",
    "-wrrr\n",
    "-wrrt\n",
    "-rttt\n",
    "\n",
    "\n",
    "This is pure txt.\n",
    "\n",
    "this is [a link](https://github.com/conda-forge/miniforge/issues/484)\n",
    "\n",
    "$\\omega^2 = \\sqrt(6)$"
   ]
  },
  {
   "cell_type": "code",
   "execution_count": 1,
   "metadata": {},
   "outputs": [],
   "source": [
    "def myfun(a, b):\n",
    "    res = a * b\n",
    "    return res"
   ]
  },
  {
   "cell_type": "code",
   "execution_count": null,
   "metadata": {},
   "outputs": [],
   "source": [
    "myfun(2,6)"
   ]
  }
 ],
 "metadata": {
  "kernelspec": {
   "display_name": "venv_computations",
   "language": "python",
   "name": "python3"
  },
  "language_info": {
   "codemirror_mode": {
    "name": "ipython",
    "version": 3
   },
   "file_extension": ".py",
   "mimetype": "text/x-python",
   "name": "python",
   "nbconvert_exporter": "python",
   "pygments_lexer": "ipython3",
   "version": "3.11.2"
  }
 },
 "nbformat": 4,
 "nbformat_minor": 2
}
